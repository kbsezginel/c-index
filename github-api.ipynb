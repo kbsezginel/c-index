{
 "cells": [
  {
   "cell_type": "code",
   "execution_count": 1,
   "metadata": {
    "collapsed": true
   },
   "outputs": [],
   "source": [
    "from github import Github\n",
    "from urllib.request import urlopen, Request\n",
    "import json"
   ]
  },
  {
   "cell_type": "code",
   "execution_count": null,
   "metadata": {
    "collapsed": true
   },
   "outputs": [],
   "source": [
    "def git_request(get_url, auth_token):\n",
    "    \"\"\" Make a GET request to GitHub API URL with given authorization token \"\"\"\n",
    "    request = Request(get_url)\n",
    "    request.add_header('Authorization', 'token %s' % auth_token)\n",
    "    response = urlopen(request)\n",
    "    html_response = response.read()\n",
    "    encoding = response.headers.get_content_charset('utf-8')\n",
    "    decoded_html = html_response.decode(encoding)\n",
    "    return json.loads(decoded_html)"
   ]
  },
  {
   "cell_type": "code",
   "execution_count": null,
   "metadata": {},
   "outputs": [],
   "source": [
    "auth_token = ''\n",
    "git = Github(auth_token)"
   ]
  },
  {
   "cell_type": "code",
   "execution_count": null,
   "metadata": {},
   "outputs": [],
   "source": [
    "user_name = ''\n",
    "repo_name = ''\n",
    "user = git.get_user(user_name)\n",
    "repo = user.get_repo(repo_name)"
   ]
  },
  {
   "cell_type": "code",
   "execution_count": null,
   "metadata": {},
   "outputs": [],
   "source": [
    "print('Forks: %i | Watchers: %i | Stars: %i' % (repo.forks_count, repo.watchers_count, repo.stargazers_count))"
   ]
  },
  {
   "cell_type": "markdown",
   "metadata": {},
   "source": [
    "### Number of clones"
   ]
  },
  {
   "cell_type": "code",
   "execution_count": null,
   "metadata": {},
   "outputs": [],
   "source": [
    "clones_url = '%s/traffic/clones' % repo.url\n",
    "clones = git_request(clones_url, auth_token)\n",
    "print('Number of clones: %i (unique: %i)' % (clones['count'], clones['uniques']))"
   ]
  },
  {
   "cell_type": "markdown",
   "metadata": {},
   "source": [
    "### Number of views"
   ]
  },
  {
   "cell_type": "code",
   "execution_count": null,
   "metadata": {},
   "outputs": [],
   "source": [
    "views_url = '%s/traffic/views' % repo.url\n",
    "views = git_request(views_url, auth_token)\n",
    "print('Number of views: %i (unique: %i)' % (views['count'], views['uniques']))"
   ]
  },
  {
   "cell_type": "markdown",
   "metadata": {},
   "source": [
    "### List referrers and paths"
   ]
  },
  {
   "cell_type": "code",
   "execution_count": null,
   "metadata": {},
   "outputs": [],
   "source": [
    "url = '%s/%s' % (repo.url, 'traffic/popular/paths')\n",
    "git_request(url, auth_token)"
   ]
  },
  {
   "cell_type": "code",
   "execution_count": null,
   "metadata": {},
   "outputs": [],
   "source": [
    "url = '%s/%s' % (repo.url, 'traffic/popular/referrers')\n",
    "git_request(url, auth_token)"
   ]
  },
  {
   "cell_type": "code",
   "execution_count": null,
   "metadata": {
    "collapsed": true
   },
   "outputs": [],
   "source": []
  }
 ],
 "metadata": {
  "kernelspec": {
   "display_name": "Python 3",
   "language": "python",
   "name": "python3"
  },
  "language_info": {
   "codemirror_mode": {
    "name": "ipython",
    "version": 3
   },
   "file_extension": ".py",
   "mimetype": "text/x-python",
   "name": "python",
   "nbconvert_exporter": "python",
   "pygments_lexer": "ipython3",
   "version": "3.5.2"
  }
 },
 "nbformat": 4,
 "nbformat_minor": 1
}
